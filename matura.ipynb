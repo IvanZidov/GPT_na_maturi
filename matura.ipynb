{
 "cells": [
  {
   "attachments": {},
   "cell_type": "markdown",
   "metadata": {},
   "source": [
    "# GPT-4 na maturi iz hrvatskog jezika"
   ]
  },
  {
   "cell_type": "code",
   "execution_count": 1,
   "metadata": {},
   "outputs": [
    {
     "data": {
      "text/plain": [
       "True"
      ]
     },
     "execution_count": 1,
     "metadata": {},
     "output_type": "execute_result"
    }
   ],
   "source": [
    "# Load all the libraries and set up the environment\n",
    "from dotenv import load_dotenv\n",
    "import os\n",
    "from tqdm.auto import tqdm\n",
    "import openai\n",
    "import pandas as pd\n",
    "tqdm.pandas()\n",
    "\n",
    "load_dotenv(\"./scripts/local.env\")"
   ]
  },
  {
   "cell_type": "code",
   "execution_count": 31,
   "metadata": {},
   "outputs": [],
   "source": [
    "# Set OpenAI API key\n",
    "openai.api_key = os.getenv(\"OPENAI_API_KEY\", \"YOUR_API_KEY\")"
   ]
  },
  {
   "cell_type": "code",
   "execution_count": 33,
   "metadata": {},
   "outputs": [
    {
     "data": {
      "text/html": [
       "<div>\n",
       "<style scoped>\n",
       "    .dataframe tbody tr th:only-of-type {\n",
       "        vertical-align: middle;\n",
       "    }\n",
       "\n",
       "    .dataframe tbody tr th {\n",
       "        vertical-align: top;\n",
       "    }\n",
       "\n",
       "    .dataframe thead th {\n",
       "        text-align: right;\n",
       "    }\n",
       "</style>\n",
       "<table border=\"1\" class=\"dataframe\">\n",
       "  <thead>\n",
       "    <tr style=\"text-align: right;\">\n",
       "      <th></th>\n",
       "      <th>Zadatak</th>\n",
       "      <th>Ulaz</th>\n",
       "      <th>Izlaz</th>\n",
       "      <th>Predviđen odgovor</th>\n",
       "      <th>Točan odgovor</th>\n",
       "      <th>Ispravno</th>\n",
       "      <th>Vrsta pitanja</th>\n",
       "    </tr>\n",
       "  </thead>\n",
       "  <tbody>\n",
       "    <tr>\n",
       "      <th>0</th>\n",
       "      <td>1</td>\n",
       "      <td>Zapuštena\\nU jednoj sobi ogromnoga grada\\npokr...</td>\n",
       "      <td>D. Pjesma je grafički organizirana.</td>\n",
       "      <td>D</td>\n",
       "      <td>A</td>\n",
       "      <td>FALSE</td>\n",
       "      <td>Književnost (uz polazni tekst)</td>\n",
       "    </tr>\n",
       "    <tr>\n",
       "      <th>1</th>\n",
       "      <td>2</td>\n",
       "      <td>Zapuštena\\r\\nU jednoj sobi ogromnoga grada\\r\\n...</td>\n",
       "      <td>B. nemogućnost ostvarivanja ispunjenoga života...</td>\n",
       "      <td>B</td>\n",
       "      <td>B</td>\n",
       "      <td>TRUE</td>\n",
       "      <td>Književnost (uz polazni tekst)</td>\n",
       "    </tr>\n",
       "    <tr>\n",
       "      <th>2</th>\n",
       "      <td>3</td>\n",
       "      <td>Zapuštena\\r\\nU jednoj sobi ogromnoga grada\\r\\n...</td>\n",
       "      <td>A. u čitanju</td>\n",
       "      <td>A</td>\n",
       "      <td>A</td>\n",
       "      <td>TRUE</td>\n",
       "      <td>Književnost (uz polazni tekst)</td>\n",
       "    </tr>\n",
       "    <tr>\n",
       "      <th>3</th>\n",
       "      <td>4</td>\n",
       "      <td>Ivan Gundulić, Osman\\r\\nSunčanica mlada i lije...</td>\n",
       "      <td>A. Nadao se da će se neki mladić svidjeti njeg...</td>\n",
       "      <td>A</td>\n",
       "      <td>A</td>\n",
       "      <td>TRUE</td>\n",
       "      <td>Književnost (uz polazni tekst)</td>\n",
       "    </tr>\n",
       "    <tr>\n",
       "      <th>4</th>\n",
       "      <td>5</td>\n",
       "      <td>Ivan Gundulić, Osman\\r\\nSunčanica mlada i lije...</td>\n",
       "      <td>A. Važno mu je da se njegova loza nastavi.</td>\n",
       "      <td>A</td>\n",
       "      <td>A</td>\n",
       "      <td>TRUE</td>\n",
       "      <td>Književnost (uz polazni tekst)</td>\n",
       "    </tr>\n",
       "  </tbody>\n",
       "</table>\n",
       "</div>"
      ],
      "text/plain": [
       "  Zadatak                                               Ulaz  \\\n",
       "0       1  Zapuštena\\nU jednoj sobi ogromnoga grada\\npokr...   \n",
       "1       2  Zapuštena\\r\\nU jednoj sobi ogromnoga grada\\r\\n...   \n",
       "2       3  Zapuštena\\r\\nU jednoj sobi ogromnoga grada\\r\\n...   \n",
       "3       4  Ivan Gundulić, Osman\\r\\nSunčanica mlada i lije...   \n",
       "4       5  Ivan Gundulić, Osman\\r\\nSunčanica mlada i lije...   \n",
       "\n",
       "                                               Izlaz Predviđen odgovor  \\\n",
       "0                D. Pjesma je grafički organizirana.                 D   \n",
       "1  B. nemogućnost ostvarivanja ispunjenoga života...                 B   \n",
       "2                                       A. u čitanju                 A   \n",
       "3  A. Nadao se da će se neki mladić svidjeti njeg...                 A   \n",
       "4         A. Važno mu je da se njegova loza nastavi.                 A   \n",
       "\n",
       "  Točan odgovor Ispravno                   Vrsta pitanja  \n",
       "0             A    FALSE  Književnost (uz polazni tekst)  \n",
       "1             B     TRUE  Književnost (uz polazni tekst)  \n",
       "2             A     TRUE  Književnost (uz polazni tekst)  \n",
       "3             A     TRUE  Književnost (uz polazni tekst)  \n",
       "4             A     TRUE  Književnost (uz polazni tekst)  "
      ]
     },
     "execution_count": 33,
     "metadata": {},
     "output_type": "execute_result"
    }
   ],
   "source": [
    "# Load the data\n",
    "df = pd.read_csv(\"./data/hrvatski_2021_2022.csv\")\n",
    "\n",
    "# Filter out the first 80 rows because rest of the data is from Excel\n",
    "df = df[:80]\n",
    "df.head()"
   ]
  },
  {
   "cell_type": "code",
   "execution_count": 35,
   "metadata": {},
   "outputs": [],
   "source": [
    "# Create a function that will generate the answers\n",
    "def generate_answer(prompt):\n",
    "    try:\n",
    "        resp = openai.ChatCompletion.create(\n",
    "        model=\"gpt-4\",\n",
    "        messages=[\n",
    "                {\"role\": \"system\", \"content\": \"Follow the instructions.\"},\n",
    "                {\"role\": \"user\", \"content\": prompt},\n",
    "            ]\n",
    "        )\n",
    "        return resp.choices[0][\"message\"][\"content\"]\n",
    "    except Exception as e:\n",
    "        print(e)\n",
    "        return None"
   ]
  },
  {
   "cell_type": "code",
   "execution_count": 37,
   "metadata": {},
   "outputs": [
    {
     "data": {
      "application/vnd.jupyter.widget-view+json": {
       "model_id": "1b189ebb90264ff388a5523a16a88eb6",
       "version_major": 2,
       "version_minor": 0
      },
      "text/plain": [
       "  0%|          | 0/80 [00:00<?, ?it/s]"
      ]
     },
     "metadata": {},
     "output_type": "display_data"
    }
   ],
   "source": [
    "# Generate the answers\n",
    "df[\"answer\"] = df[\"Ulaz\"].progress_apply(generate_answer)"
   ]
  },
  {
   "cell_type": "code",
   "execution_count": 40,
   "metadata": {},
   "outputs": [],
   "source": [
    "# df[\"answer\"] needs to be only first character of predvidjeni_gpt4 if not None\n",
    "df.loc[df[\"answer\"].notnull(), \"answer\"] = df.loc[df[\"answer\"].notnull(), \"answer\"].apply(lambda x: x[0])"
   ]
  },
  {
   "cell_type": "code",
   "execution_count": 41,
   "metadata": {},
   "outputs": [
    {
     "data": {
      "text/plain": [
       "B    33\n",
       "A    19\n",
       "D    16\n",
       "C    12\n",
       "Name: answer, dtype: int64"
      ]
     },
     "execution_count": 41,
     "metadata": {},
     "output_type": "execute_result"
    }
   ],
   "source": [
    "df[\"answer\"].value_counts()"
   ]
  },
  {
   "cell_type": "code",
   "execution_count": 42,
   "metadata": {},
   "outputs": [],
   "source": [
    "# Calculate the accuracy between the correct answers and the generated answers\n",
    "df[\"correct\"] = df[\"answer\"] == df[\"Točan odgovor\"]"
   ]
  },
  {
   "cell_type": "code",
   "execution_count": 43,
   "metadata": {},
   "outputs": [
    {
     "data": {
      "text/plain": [
       "True     0.825\n",
       "False    0.175\n",
       "Name: correct, dtype: float64"
      ]
     },
     "execution_count": 43,
     "metadata": {},
     "output_type": "execute_result"
    }
   ],
   "source": [
    "df[\"correct\"].value_counts(normalize=True)"
   ]
  }
 ],
 "metadata": {
  "kernelspec": {
   "display_name": "gpt3",
   "language": "python",
   "name": "python3"
  },
  "language_info": {
   "codemirror_mode": {
    "name": "ipython",
    "version": 3
   },
   "file_extension": ".py",
   "mimetype": "text/x-python",
   "name": "python",
   "nbconvert_exporter": "python",
   "pygments_lexer": "ipython3",
   "version": "3.10.4"
  },
  "orig_nbformat": 4,
  "vscode": {
   "interpreter": {
    "hash": "e6acde86e414307d56eb10d47abc74fad89ebf1d87166fe461b71e50f3adf643"
   }
  }
 },
 "nbformat": 4,
 "nbformat_minor": 2
}
